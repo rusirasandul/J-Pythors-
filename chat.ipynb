{
 "cells": [
  {
   "cell_type": "code",
   "execution_count": 33,
   "metadata": {},
   "outputs": [],
   "source": [
    "import pandas as pd\n",
    "import torch\n",
    "from transformers import AutoTokenizer, AutoModelForSequenceClassification\n",
    "from tqdm import tqdm\n",
    "\n",
    "# Load the data\n",
    "file_path = \"data/reviews.csv\"\n",
    "df = pd.read_csv(file_path)\n",
    "\n",
    "# Correct column name\n",
    "review_column = \"Review\""
   ]
  },
  {
   "cell_type": "code",
   "execution_count": 34,
   "metadata": {},
   "outputs": [],
   "source": [
    "# Load the model and tokenizer\n",
    "bart_model_name = \"facebook/bart-large-mnli\"\n",
    "tokenizer = AutoTokenizer.from_pretrained(bart_model_name)\n",
    "model = AutoModelForSequenceClassification.from_pretrained(bart_model_name)\n",
    "\n",
    "# Define categories and sentiment\n",
    "categories = [\n",
    "    \"Talks about driving experience\", \n",
    "    \"Talks about features\", \n",
    "    \"Talks about value for money\", \n",
    "    \"Talks about issues\", \n",
    "    \"Other\"\n",
    "]\n",
    "sentiments = [\"Positive\", \"Negative\"]"
   ]
  },
  {
   "cell_type": "code",
   "execution_count": 40,
   "metadata": {},
   "outputs": [
    {
     "name": "stdout",
     "output_type": "stream",
     "text": [
      "Device: cuda\n",
      "Available GPUs: 1\n"
     ]
    }
   ],
   "source": [
    "# Define the device to CUDA & display it\n",
    "device = torch.device('cuda' if torch.cuda.is_available() else 'cpu')\n",
    "print(f'Device: {device}')\n",
    "\n",
    "# Print out all the available gpus from the system\n",
    "print(f'Available GPUs: {torch.cuda.device_count()}')"
   ]
  },
  {
   "cell_type": "code",
   "execution_count": 35,
   "metadata": {},
   "outputs": [],
   "source": [
    "# Load the model and tokenizer\n",
    "bart_model_name = \"facebook/bart-large-mnli\"\n",
    "tokenizer = AutoTokenizer.from_pretrained(bart_model_name)\n",
    "model = AutoModelForSequenceClassification.from_pretrained(bart_model_name)\n",
    "\n",
    "# Define categories and sentiment\n",
    "categories = [\n",
    "    \"Talks about driving experience\", \n",
    "    \"Talks about features\", \n",
    "    \"Talks about value for money\", \n",
    "    \"Talks about issues\", \n",
    "    \"Other\"\n",
    "]\n",
    "sentiments = [\"Positive\", \"Negative\"]\n",
    "\n",
    "# Function to classify a review\n",
    "def classify_review(review_text):\n",
    "    inputs = tokenizer(review_text, return_tensors=\"pt\", truncation=True, padding=True, max_length=512)\n",
    "    with torch.no_grad():\n",
    "        logits = model(**inputs).logits\n",
    "    category_idx = logits.softmax(dim=1).argmax().item()\n",
    "    sentiment_idx = category_idx % len(sentiments)  # Alternate positive/negative\n",
    "    return categories[category_idx], sentiments[sentiment_idx]"
   ]
  },
  {
   "cell_type": "code",
   "execution_count": 37,
   "metadata": {},
   "outputs": [
    {
     "name": "stdout",
     "output_type": "stream",
     "text": [
      "Index(['Review'], dtype='object')\n"
     ]
    }
   ],
   "source": [
    "print(df.columns)"
   ]
  },
  {
   "cell_type": "code",
   "execution_count": 38,
   "metadata": {},
   "outputs": [
    {
     "name": "stdout",
     "output_type": "stream",
     "text": [
      "Classifying reviews...\n"
     ]
    },
    {
     "name": "stderr",
     "output_type": "stream",
     "text": [
      "Processing: 100%|██████████| 5925/5925 [58:16<00:00,  1.69it/s]  \n"
     ]
    }
   ],
   "source": [
    "# Add predictions to the DataFrame\n",
    "df[\"talks_about\"] = \"\"\n",
    "df[\"sentiment\"] = \"\"\n",
    "\n",
    "# Add a progress bar using tqdm\n",
    "print(\"Classifying reviews...\")\n",
    "for idx, row in tqdm(df.iterrows(), total=len(df), desc=\"Processing\"):\n",
    "    category, sentiment = classify_review(row[review_column])\n",
    "    df.at[idx, \"talks_about\"] = category\n",
    "    df.at[idx, \"sentiment\"] = sentiment"
   ]
  },
  {
   "cell_type": "code",
   "execution_count": 39,
   "metadata": {},
   "outputs": [
    {
     "name": "stdout",
     "output_type": "stream",
     "text": [
      "Classification complete. Results saved to 'data/reviews_with_sentiments.csv'.\n"
     ]
    }
   ],
   "source": [
    "# Save the updated DataFrame\n",
    "output_file = \"data/reviews_with_sentiments.csv\"\n",
    "df.to_csv(output_file, index=False)\n",
    "print(f\"Classification complete. Results saved to '{output_file}'.\")"
   ]
  }
 ],
 "metadata": {
  "kernelspec": {
   "display_name": "cognita",
   "language": "python",
   "name": "python3"
  },
  "language_info": {
   "codemirror_mode": {
    "name": "ipython",
    "version": 3
   },
   "file_extension": ".py",
   "mimetype": "text/x-python",
   "name": "python",
   "nbconvert_exporter": "python",
   "pygments_lexer": "ipython3",
   "version": "3.10.0"
  }
 },
 "nbformat": 4,
 "nbformat_minor": 2
}
