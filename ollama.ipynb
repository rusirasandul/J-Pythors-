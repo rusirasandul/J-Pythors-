{
 "cells": [
  {
   "cell_type": "code",
   "execution_count": 13,
   "metadata": {},
   "outputs": [
    {
     "name": "stdout",
     "output_type": "stream",
     "text": [
      "Classifying up to 10 reviews...\n"
     ]
    },
    {
     "name": "stderr",
     "output_type": "stream",
     "text": [
      "Processing: 100%|██████████| 10/10 [00:32<00:00,  3.27s/review]"
     ]
    },
    {
     "name": "stdout",
     "output_type": "stream",
     "text": [
      "Classification complete. Results saved to 'data/reviews_with_sentiments_ollama.csv'.\n"
     ]
    },
    {
     "name": "stderr",
     "output_type": "stream",
     "text": [
      "\n"
     ]
    }
   ],
   "source": [
    "import os\n",
    "import pandas as pd\n",
    "from tqdm import tqdm\n",
    "import requests\n",
    "import json\n",
    "\n",
    "# Ollama server configuration\n",
    "OLLAMA_URL = \"http://localhost:11434/api/generate\"\n",
    "MODEL_NAME = \"llama3.2:1b\"\n",
    "\n",
    "# Define input file path and load the dataset\n",
    "file_path = \"data/reviews.csv\"\n",
    "if not os.path.exists(file_path):\n",
    "    raise FileNotFoundError(f\"Input file not found at '{file_path}'\")\n",
    "\n",
    "df = pd.read_csv(file_path)\n",
    "\n",
    "# Define column name containing reviews\n",
    "review_column = \"Review\"\n",
    "\n",
    "# Ensure the correct column exists\n",
    "if review_column not in df.columns:\n",
    "    raise ValueError(f\"Column '{review_column}' not found in the dataset!\")\n",
    "\n",
    "# Define candidate labels and initialize output columns\n",
    "candidate_labels = [\n",
    "    \"Talks about driving experience\",\n",
    "    \"Talks about features\",\n",
    "    \"Talks about value for money\",\n",
    "    \"Talks about issues\",\n",
    "    \"Other\"\n",
    "]\n",
    "df[\"talks_about\"] = \"\"\n",
    "df[\"sentiment\"] = \"\"\n",
    "\n",
    "# Define dataframe size limit\n",
    "df_size = 10  # Adjust this value to control the number of rows processed\n",
    "if df_size > 0:\n",
    "    df = df.head(df_size)\n",
    "\n",
    "# Classification logic\n",
    "def classify_review(review_text):\n",
    "    prompt = (\n",
    "        f\"The following review needs classification:\\n\\n'{review_text}'\\n\\n\"\n",
    "        \"Identify the main topic from these categories: \"\n",
    "        f\"{', '.join(candidate_labels)}. \"\n",
    "        \"Additionally, classify the sentiment as Positive or Negative.\"\n",
    "    )\n",
    "    \n",
    "    try:\n",
    "        # Send request to Ollama\n",
    "        response = requests.post(\n",
    "            OLLAMA_URL,\n",
    "            json={\"model\": MODEL_NAME, \"prompt\": prompt},\n",
    "            headers={\"Content-Type\": \"application/json\"}  # Explicitly set the content type\n",
    "        )\n",
    "        response.raise_for_status()  # Raise exception for HTTP errors\n",
    "        \n",
    "        # Validate JSON response\n",
    "        try:\n",
    "            result = response.json()\n",
    "        except json.JSONDecodeError as e:\n",
    "            raise ValueError(f\"Failed to parse JSON response: {response.text}\")\n",
    "        \n",
    "        if \"content\" not in result:\n",
    "            raise ValueError(f\"Unexpected response format: {json.dumps(result)}\")\n",
    "        \n",
    "        generated_text = result[\"content\"]\n",
    "        \n",
    "        # Parse the response to extract category and sentiment\n",
    "        category = next((label for label in candidate_labels if label in generated_text), \"Other\")\n",
    "        sentiment = \"Positive\" if \"Positive\" in generated_text else \"Negative\"\n",
    "        return category, sentiment\n",
    "    except requests.RequestException as e:\n",
    "        return \"Error\", f\"Request failed: {str(e)}\"\n",
    "    except ValueError as e:\n",
    "        return \"Error\", f\"Parsing error: {str(e)}\"\n",
    "\n",
    "# Apply classification with progress bar\n",
    "print(f\"Classifying up to {len(df)} reviews...\")\n",
    "df_progress = tqdm(df.iterrows(), total=len(df), desc=\"Processing\", unit=\"review\")\n",
    "for idx, row in df_progress:\n",
    "    review_text = str(row[review_column]).replace(\"\\n\", \" \")  # Sanitize newlines in the review text\n",
    "    category, sentiment = classify_review(review_text)\n",
    "    df.at[idx, \"talks_about\"] = category\n",
    "    df.at[idx, \"sentiment\"] = sentiment\n",
    "\n",
    "# Save the classified data\n",
    "output_file = \"data/reviews_with_sentiments_ollama.csv\"\n",
    "df.to_csv(output_file, index=False)\n",
    "print(f\"Classification complete. Results saved to '{output_file}'.\")\n"
   ]
  }
 ],
 "metadata": {
  "kernelspec": {
   "display_name": "cognew",
   "language": "python",
   "name": "python3"
  },
  "language_info": {
   "codemirror_mode": {
    "name": "ipython",
    "version": 3
   },
   "file_extension": ".py",
   "mimetype": "text/x-python",
   "name": "python",
   "nbconvert_exporter": "python",
   "pygments_lexer": "ipython3",
   "version": "3.10.0"
  }
 },
 "nbformat": 4,
 "nbformat_minor": 2
}
