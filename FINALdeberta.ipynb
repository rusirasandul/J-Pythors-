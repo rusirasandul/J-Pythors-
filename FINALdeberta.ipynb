{
 "cells": [
  {
   "cell_type": "code",
   "execution_count": 4,
   "metadata": {},
   "outputs": [],
   "source": [
    "import pandas as pd\n",
    "from tqdm import tqdm\n",
    "from transformers import pipeline\n",
    "import torch"
   ]
  },
  {
   "cell_type": "code",
   "execution_count": 5,
   "metadata": {},
   "outputs": [],
   "source": [
    "device = torch.device('cuda' if torch.cuda.is_available() else 'cpu')"
   ]
  },
  {
   "cell_type": "code",
   "execution_count": 7,
   "metadata": {},
   "outputs": [],
   "source": [
    "# Load the zero-shot classification pipeline\n",
    "classifier = pipeline(\n",
    "    \"zero-shot-classification\", \n",
    "    model=\"MoritzLaurer/DeBERTa-v3-base-mnli-fever-anli\", device = device\n",
    ")\n",
    "\n",
    "# Define input file path and load the dataset\n",
    "file_path = \"data/reviews.csv\"\n",
    "df = pd.read_csv(file_path)\n",
    "\n",
    "# Define column name containing reviews\n",
    "review_column = \"Review\""
   ]
  },
  {
   "cell_type": "code",
   "execution_count": 9,
   "metadata": {},
   "outputs": [],
   "source": [
    "# Ensure the correct column exists\n",
    "if review_column not in df.columns:\n",
    "    raise ValueError(f\"Column '{review_column}' not found in the dataset!\")\n",
    "\n",
    "# Define candidate labels and initialize output columns\n",
    "candidate_labels = [\n",
    "    \"Talks about driving experience\", \n",
    "    \"Talks about features\", \n",
    "    \"Talks about value for money\", \n",
    "    \"Talks about issues\", \n",
    "    \"Other\"\n",
    "]\n",
    "df[\"talks_about\"] = \"\"\n",
    "df[\"sentiment\"] = \"\""
   ]
  },
  {
   "cell_type": "code",
   "execution_count": 10,
   "metadata": {},
   "outputs": [],
   "source": [
    "# Classification logic\n",
    "def classify_review(review_text):\n",
    "    output = classifier(review_text, candidate_labels, multi_label=False)\n",
    "    category = output[\"labels\"][0]  # The top label is the most likely category\n",
    "    sentiment = \"Positive\" if output[\"scores\"][0] > 0.5 else \"Negative\"\n",
    "    return category, sentiment"
   ]
  },
  {
   "cell_type": "code",
   "execution_count": 11,
   "metadata": {},
   "outputs": [
    {
     "name": "stdout",
     "output_type": "stream",
     "text": [
      "Classifying reviews...\n"
     ]
    },
    {
     "name": "stderr",
     "output_type": "stream",
     "text": [
      "Processing:   0%|          | 0/5925 [00:00<?, ?it/s]Asking to truncate to max_length but no maximum length is provided and the model has no predefined maximum length. Default to no truncation.\n",
      "Processing:   0%|          | 10/5925 [00:02<15:10,  6.50it/s] You seem to be using the pipelines sequentially on GPU. In order to maximize efficiency please use a dataset\n",
      "Processing: 100%|██████████| 5925/5925 [11:44<00:00,  8.41it/s]\n"
     ]
    }
   ],
   "source": [
    "# Apply classification with progress bar\n",
    "print(\"Classifying reviews...\")\n",
    "for idx, row in tqdm(df.iterrows(), total=len(df), desc=\"Processing\"):\n",
    "    category, sentiment = classify_review(row[review_column])\n",
    "    df.at[idx, \"talks_about\"] = category\n",
    "    df.at[idx, \"sentiment\"] = sentiment"
   ]
  },
  {
   "cell_type": "code",
   "execution_count": 12,
   "metadata": {},
   "outputs": [
    {
     "name": "stdout",
     "output_type": "stream",
     "text": [
      "Classification complete. Results saved to 'data/reviews_with_sentiments_deberta.csv'.\n"
     ]
    }
   ],
   "source": [
    "# Save the classified data\n",
    "output_file = \"data/reviews_with_sentiments_deberta.csv\"\n",
    "df.to_csv(output_file, index=False)\n",
    "print(f\"Classification complete. Results saved to '{output_file}'.\")"
   ]
  },
  {
   "cell_type": "code",
   "execution_count": null,
   "metadata": {},
   "outputs": [],
   "source": []
  },
  {
   "cell_type": "code",
   "execution_count": null,
   "metadata": {},
   "outputs": [],
   "source": []
  }
 ],
 "metadata": {
  "kernelspec": {
   "display_name": "cognew",
   "language": "python",
   "name": "python3"
  },
  "language_info": {
   "codemirror_mode": {
    "name": "ipython",
    "version": 3
   },
   "file_extension": ".py",
   "mimetype": "text/x-python",
   "name": "python",
   "nbconvert_exporter": "python",
   "pygments_lexer": "ipython3",
   "version": "3.10.0"
  }
 },
 "nbformat": 4,
 "nbformat_minor": 2
}
